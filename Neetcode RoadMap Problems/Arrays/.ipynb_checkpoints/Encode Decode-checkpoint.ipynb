{
 "cells": [
  {
   "cell_type": "code",
   "execution_count": 2,
   "id": "8bab64a9",
   "metadata": {},
   "outputs": [],
   "source": [
    "class Solution:\n",
    "    \n",
    "    def encode(self, strs):\n",
    "        res = \"\"\n",
    "        for s in strs:\n",
    "            res += str(len(s)) + '.' + s\n",
    "        print(res)\n",
    "        return res\n",
    "    def decode(self, s):\n",
    "        res = []\n",
    "        i = 0\n",
    "        while i < len(s):\n",
    "            j = i \n",
    "            while s[j] != '.':\n",
    "                j += 1\n",
    "            lenght = int(s[i:j])\n",
    "            i = j + 1\n",
    "            j = lenght + i\n",
    "            res.append(s[i:j])\n",
    "            i = j\n",
    "        return res\n"
   ]
  },
  {
   "cell_type": "markdown",
   "id": "1ee298dc",
   "metadata": {},
   "source": [
    "https://neetcode.io/problems/string-encode-and-decode"
   ]
  },
  {
   "cell_type": "code",
   "execution_count": null,
   "id": "807ad957",
   "metadata": {},
   "outputs": [],
   "source": []
  }
 ],
 "metadata": {
  "kernelspec": {
   "display_name": "Python 3 (ipykernel)",
   "language": "python",
   "name": "python3"
  },
  "language_info": {
   "codemirror_mode": {
    "name": "ipython",
    "version": 3
   },
   "file_extension": ".py",
   "mimetype": "text/x-python",
   "name": "python",
   "nbconvert_exporter": "python",
   "pygments_lexer": "ipython3",
   "version": "3.10.9"
  }
 },
 "nbformat": 4,
 "nbformat_minor": 5
}
