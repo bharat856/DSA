{
 "cells": [
  {
   "cell_type": "markdown",
   "id": "ebacdf11",
   "metadata": {},
   "source": [
    "Time Limit Exceeded"
   ]
  },
  {
   "cell_type": "code",
   "execution_count": 3,
   "id": "ccbf09e9",
   "metadata": {},
   "outputs": [],
   "source": [
    "class Solution(object):\n",
    "    def productExceptSelf(self, nums):\n",
    "        res = []\n",
    "\n",
    "        for i in range(len(nums)):\n",
    "            if i == 0:\n",
    "                mul = 1\n",
    "                for num in nums[1:]:\n",
    "                    mul *= num\n",
    "                res.append(mul)\n",
    "            elif i == len(nums) - 1:\n",
    "                mul = 1\n",
    "                for num in nums[:-1]:\n",
    "                    mul *= num\n",
    "                res.append(mul)\n",
    "            else:\n",
    "                leftMul = 1\n",
    "                rightMul = 1\n",
    "                for x in nums[:i]:\n",
    "                    leftMul *= x\n",
    "                for x in nums[i+1:]:\n",
    "                    rightMul *= x\n",
    "                res.append(leftMul * rightMul)\n",
    "\n",
    "        return res\n"
   ]
  },
  {
   "cell_type": "markdown",
   "id": "7110a412",
   "metadata": {},
   "source": [
    "Optimal Solution"
   ]
  },
  {
   "cell_type": "markdown",
   "id": "60289b13",
   "metadata": {},
   "source": [
    "https://leetcode.com/problems/product-of-array-except-self/description/"
   ]
  },
  {
   "cell_type": "code",
   "execution_count": 4,
   "id": "77e55379",
   "metadata": {},
   "outputs": [],
   "source": [
    "class Solution(object):\n",
    "    def productExceptSelf(self, nums):\n",
    "        lenght = len(nums)\n",
    "        res = [1]*lenght\n",
    "        leftProduct = 1\n",
    "        for i in range(lenght):\n",
    "            res[i] = leftProduct\n",
    "            leftProduct *= nums[i]\n",
    "        rightProduct = 1\n",
    "        \n",
    "        for i in range(lenght-1,-1,-1):\n",
    "            res[i] *= rightProduct\n",
    "            rightProduct *= nums[i] \n",
    "        return res\n"
   ]
  },
  {
   "cell_type": "code",
   "execution_count": null,
   "id": "868e5280",
   "metadata": {},
   "outputs": [],
   "source": []
  }
 ],
 "metadata": {
  "kernelspec": {
   "display_name": "Python 3 (ipykernel)",
   "language": "python",
   "name": "python3"
  },
  "language_info": {
   "codemirror_mode": {
    "name": "ipython",
    "version": 3
   },
   "file_extension": ".py",
   "mimetype": "text/x-python",
   "name": "python",
   "nbconvert_exporter": "python",
   "pygments_lexer": "ipython3",
   "version": "3.10.9"
  }
 },
 "nbformat": 4,
 "nbformat_minor": 5
}
