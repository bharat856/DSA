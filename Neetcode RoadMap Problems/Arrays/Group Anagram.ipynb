{
 "cells": [
  {
   "cell_type": "markdown",
   "id": "bcbb6cbd",
   "metadata": {},
   "source": [
    "Here we are given a list of words and we have to group out the anagrams and return a list of list"
   ]
  },
  {
   "cell_type": "markdown",
   "id": "a1b904e0",
   "metadata": {},
   "source": [
    "Question: https://leetcode.com/problems/group-anagrams/description/"
   ]
  },
  {
   "cell_type": "code",
   "execution_count": 1,
   "id": "96476c28",
   "metadata": {},
   "outputs": [],
   "source": [
    "class Solution(object):\n",
    "    def groupAnagrams(self, strs):\n",
    "        x = {}\n",
    "        res = []\n",
    "        for i in strs:\n",
    "            sorted_word = ''.join(sorted(i))\n",
    "            if sorted_word in x:\n",
    "                x[sorted_word].append(i)\n",
    "            else:\n",
    "                x[sorted_word] = [i]\n",
    "\n",
    "        for group in x.values():\n",
    "            res.append(group)\n",
    "\n",
    "        return res"
   ]
  },
  {
   "cell_type": "code",
   "execution_count": null,
   "id": "370e2c0c",
   "metadata": {},
   "outputs": [],
   "source": []
  }
 ],
 "metadata": {
  "kernelspec": {
   "display_name": "Python 3 (ipykernel)",
   "language": "python",
   "name": "python3"
  },
  "language_info": {
   "codemirror_mode": {
    "name": "ipython",
    "version": 3
   },
   "file_extension": ".py",
   "mimetype": "text/x-python",
   "name": "python",
   "nbconvert_exporter": "python",
   "pygments_lexer": "ipython3",
   "version": "3.10.9"
  }
 },
 "nbformat": 4,
 "nbformat_minor": 5
}
