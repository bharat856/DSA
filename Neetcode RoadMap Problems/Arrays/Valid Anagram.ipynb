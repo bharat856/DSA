{
 "cells": [
  {
   "cell_type": "markdown",
   "id": "876d7d8d",
   "metadata": {},
   "source": [
    "### Return true if the given words are an anagram of eachother "
   ]
  },
  {
   "cell_type": "markdown",
   "id": "1242a717",
   "metadata": {},
   "source": [
    "Example: s = \"anagram\", t = \"nagaram\""
   ]
  },
  {
   "cell_type": "markdown",
   "id": "ec9bd520",
   "metadata": {},
   "source": [
    "Question: https://leetcode.com/problems/valid-anagram/"
   ]
  },
  {
   "cell_type": "code",
   "execution_count": 1,
   "id": "cb14fef9",
   "metadata": {},
   "outputs": [],
   "source": [
    "class Solution(object):\n",
    "    def isAnagram(self, s, t):\n",
    "        b = list(sorted(t))\n",
    "        a = list(sorted(s))\n",
    "        if len(s) != len(t):\n",
    "            return False\n",
    "        else:\n",
    "            for i in range(len(a)):\n",
    "                if a[i] != b[i]:\n",
    "                    return False\n",
    "            return True"
   ]
  }
 ],
 "metadata": {
  "kernelspec": {
   "display_name": "Python 3 (ipykernel)",
   "language": "python",
   "name": "python3"
  },
  "language_info": {
   "codemirror_mode": {
    "name": "ipython",
    "version": 3
   },
   "file_extension": ".py",
   "mimetype": "text/x-python",
   "name": "python",
   "nbconvert_exporter": "python",
   "pygments_lexer": "ipython3",
   "version": "3.10.9"
  }
 },
 "nbformat": 4,
 "nbformat_minor": 5
}
