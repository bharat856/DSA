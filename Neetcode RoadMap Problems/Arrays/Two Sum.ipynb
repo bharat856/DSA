{
 "cells": [
  {
   "cell_type": "markdown",
   "id": "72146592",
   "metadata": {},
   "source": [
    "### Return the indexes of the numbers the sum of which is equal to the number n "
   ]
  },
  {
   "cell_type": "markdown",
   "id": "ff06d5cf",
   "metadata": {},
   "source": [
    "Question: https://leetcode.com/problems/two-sum/|"
   ]
  },
  {
   "cell_type": "code",
   "execution_count": 1,
   "id": "ae912618",
   "metadata": {},
   "outputs": [],
   "source": [
    "class Solution(object):\n",
    "    def twoSum(self, nums, target):\n",
    "        for i in range(len(nums)):\n",
    "            for j in range(i+1,len(nums)):\n",
    "                if nums[j] == (target - nums[i]):\n",
    "                    return([i,j])\n",
    "        "
   ]
  }
 ],
 "metadata": {
  "kernelspec": {
   "display_name": "Python 3 (ipykernel)",
   "language": "python",
   "name": "python3"
  },
  "language_info": {
   "codemirror_mode": {
    "name": "ipython",
    "version": 3
   },
   "file_extension": ".py",
   "mimetype": "text/x-python",
   "name": "python",
   "nbconvert_exporter": "python",
   "pygments_lexer": "ipython3",
   "version": "3.10.9"
  }
 },
 "nbformat": 4,
 "nbformat_minor": 5
}
