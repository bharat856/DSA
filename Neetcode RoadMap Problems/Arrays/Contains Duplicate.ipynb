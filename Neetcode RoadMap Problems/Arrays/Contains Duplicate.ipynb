{
 "cells": [
  {
   "cell_type": "markdown",
   "id": "c85ee2d2",
   "metadata": {},
   "source": [
    "### We have to check if any value appears once return True if it contains duplicate and returns False if it doesnt"
   ]
  },
  {
   "cell_type": "markdown",
   "id": "2583699b",
   "metadata": {},
   "source": [
    "https://leetcode.com/problems/contains-duplicate/submissions/1219830141/"
   ]
  },
  {
   "cell_type": "code",
   "execution_count": 1,
   "id": "fe667fc8",
   "metadata": {},
   "outputs": [],
   "source": [
    "class Solution(object):\n",
    "    def containsDuplicate(self, nums):\n",
    "        flag = 0\n",
    "        x = {}\n",
    "        for num in nums:\n",
    "            if num not in x:\n",
    "                x[num] = 1\n",
    "            else:\n",
    "                x[num] += 1\n",
    "                flag = 1\n",
    "                return True\n",
    "                break\n",
    "        if flag == 0:\n",
    "            return False"
   ]
  }
 ],
 "metadata": {
  "kernelspec": {
   "display_name": "Python 3 (ipykernel)",
   "language": "python",
   "name": "python3"
  },
  "language_info": {
   "codemirror_mode": {
    "name": "ipython",
    "version": 3
   },
   "file_extension": ".py",
   "mimetype": "text/x-python",
   "name": "python",
   "nbconvert_exporter": "python",
   "pygments_lexer": "ipython3",
   "version": "3.10.9"
  }
 },
 "nbformat": 4,
 "nbformat_minor": 5
}
