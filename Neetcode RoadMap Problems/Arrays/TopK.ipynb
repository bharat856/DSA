{
 "cells": [
  {
   "cell_type": "markdown",
   "id": "3adef0f3",
   "metadata": {},
   "source": [
    "Given an integer array nums and an integer k, return the k most frequent elements. You may return the answer in any order."
   ]
  },
  {
   "cell_type": "markdown",
   "id": "3be69af2",
   "metadata": {},
   "source": [
    "Question: https://leetcode.com/problems/top-k-frequent-elements/"
   ]
  },
  {
   "cell_type": "code",
   "execution_count": 3,
   "id": "d60f8e49",
   "metadata": {},
   "outputs": [],
   "source": [
    "class Solution(object):\n",
    "    def topKFrequent(self, nums, k):\n",
    "        totalOccur = {}\n",
    "        for num in nums:\n",
    "            if num not in totalOccur:\n",
    "                totalOccur[num] = 1\n",
    "            else:\n",
    "                totalOccur[num] += 1\n",
    "        totalOccur = sorted(totalOccur.items(), reverse = True, key=lambda item: item[1])\n",
    "        return [item[0] for item in totalOccur[:k]]"
   ]
  },
  {
   "cell_type": "code",
   "execution_count": null,
   "id": "8d1349a3",
   "metadata": {},
   "outputs": [],
   "source": []
  }
 ],
 "metadata": {
  "kernelspec": {
   "display_name": "Python 3 (ipykernel)",
   "language": "python",
   "name": "python3"
  },
  "language_info": {
   "codemirror_mode": {
    "name": "ipython",
    "version": 3
   },
   "file_extension": ".py",
   "mimetype": "text/x-python",
   "name": "python",
   "nbconvert_exporter": "python",
   "pygments_lexer": "ipython3",
   "version": "3.10.9"
  }
 },
 "nbformat": 4,
 "nbformat_minor": 5
}
