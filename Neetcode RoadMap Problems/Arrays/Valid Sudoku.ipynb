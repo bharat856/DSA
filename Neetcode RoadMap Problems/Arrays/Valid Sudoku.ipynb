{
 "cells": [
  {
   "cell_type": "markdown",
   "id": "adc8756c",
   "metadata": {},
   "source": [
    "https://leetcode.com/problems/valid-sudoku/description/"
   ]
  },
  {
   "cell_type": "code",
   "execution_count": 1,
   "id": "00611425",
   "metadata": {},
   "outputs": [],
   "source": [
    "class Solution(object):\n",
    "    def isValidSudoku(self, board):\n",
    "        rows = collections.defaultdict(set)\n",
    "        cols = collections.defaultdict(set)\n",
    "        squares = collections.defaultdict(set)\n",
    "        for r in range(9):\n",
    "            for c in range(9):\n",
    "                if board[r][c] == \".\":\n",
    "                    continue\n",
    "                if(board[r][c] in rows[r] or\n",
    "                board[r][c] in cols[c] or\n",
    "                board[r][c] in squares[(r // 3, c // 3)]):\n",
    "                    return False\n",
    "\n",
    "                rows[r].add(board[r][c])\n",
    "                cols[c].add(board[r][c])\n",
    "                squares[(r // 3, c // 3)].add(board[r][c])  \n",
    "        return True        "
   ]
  },
  {
   "cell_type": "code",
   "execution_count": null,
   "id": "0fff6135",
   "metadata": {},
   "outputs": [],
   "source": []
  }
 ],
 "metadata": {
  "kernelspec": {
   "display_name": "Python 3 (ipykernel)",
   "language": "python",
   "name": "python3"
  },
  "language_info": {
   "codemirror_mode": {
    "name": "ipython",
    "version": 3
   },
   "file_extension": ".py",
   "mimetype": "text/x-python",
   "name": "python",
   "nbconvert_exporter": "python",
   "pygments_lexer": "ipython3",
   "version": "3.10.9"
  }
 },
 "nbformat": 4,
 "nbformat_minor": 5
}
