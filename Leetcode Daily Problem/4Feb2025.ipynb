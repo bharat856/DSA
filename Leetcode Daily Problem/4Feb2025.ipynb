{
 "cells": [
  {
   "cell_type": "markdown",
   "id": "a171f90a-8ae4-4471-aa24-43d8ff3be21a",
   "metadata": {},
   "source": [
    "https://leetcode.com/problems/maximum-ascending-subarray-sum/"
   ]
  },
  {
   "cell_type": "code",
   "execution_count": 3,
   "id": "66f6cabb-7ec5-4843-915b-faf7c76035ff",
   "metadata": {},
   "outputs": [],
   "source": [
    "class Solution(object):\n",
    "    def maxAscendingSum(self, nums):\n",
    "        currSum = nums[0]\n",
    "        res = currSum\n",
    "        if not nums:\n",
    "            return 0\n",
    "        for i in range(1, len(nums)):\n",
    "            if nums[i - 1] < nums[i]:\n",
    "                currSum += nums[i]\n",
    "            else:\n",
    "                currSum = nums[i]\n",
    "            res = max(currSum, res)\n",
    "        return res\n"
   ]
  },
  {
   "cell_type": "code",
   "execution_count": null,
   "id": "ec312d52-ed4f-4307-b454-5401ee2fc6b9",
   "metadata": {},
   "outputs": [],
   "source": []
  }
 ],
 "metadata": {
  "kernelspec": {
   "display_name": "Python 3 (ipykernel)",
   "language": "python",
   "name": "python3"
  },
  "language_info": {
   "codemirror_mode": {
    "name": "ipython",
    "version": 3
   },
   "file_extension": ".py",
   "mimetype": "text/x-python",
   "name": "python",
   "nbconvert_exporter": "python",
   "pygments_lexer": "ipython3",
   "version": "3.12.7"
  }
 },
 "nbformat": 4,
 "nbformat_minor": 5
}
