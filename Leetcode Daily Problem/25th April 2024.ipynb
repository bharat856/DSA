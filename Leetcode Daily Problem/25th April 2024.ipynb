{
 "cells": [
  {
   "cell_type": "markdown",
   "id": "f0710a51",
   "metadata": {},
   "source": [
    "You are given a string s consisting of lowercase letters and an integer k. We call a string t ideal if the following conditions are satisfied:\n",
    "\n",
    "t is a subsequence of the string s.\n",
    "The absolute difference in the alphabet order of every two adjacent letters in t is less than or equal to k.\n",
    "Return the length of the longest ideal string.\n",
    "\n",
    "A subsequence is a string that can be derived from another string by deleting some or no characters without changing the order of the remaining characters.\n",
    "\n",
    "Note that the alphabet order is not cyclic. For example, the absolute difference in the alphabet order of 'a' and 'z' is 25, not 1."
   ]
  },
  {
   "cell_type": "markdown",
   "id": "aaaff288",
   "metadata": {},
   "source": [
    "Question: https://leetcode.com/problems/longest-ideal-subsequence/description/?envType=daily-question&envId=2024-04-25"
   ]
  },
  {
   "cell_type": "code",
   "execution_count": null,
   "id": "a37daed6",
   "metadata": {},
   "outputs": [],
   "source": []
  }
 ],
 "metadata": {
  "kernelspec": {
   "display_name": "Python 3 (ipykernel)",
   "language": "python",
   "name": "python3"
  },
  "language_info": {
   "codemirror_mode": {
    "name": "ipython",
    "version": 3
   },
   "file_extension": ".py",
   "mimetype": "text/x-python",
   "name": "python",
   "nbconvert_exporter": "python",
   "pygments_lexer": "ipython3",
   "version": "3.10.9"
  }
 },
 "nbformat": 4,
 "nbformat_minor": 5
}
