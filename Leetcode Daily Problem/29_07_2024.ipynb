{
 "cells": [
  {
   "cell_type": "markdown",
   "id": "17fc7d25",
   "metadata": {},
   "source": [
    "https://leetcode.com/problems/count-number-of-teams/description/?envType=daily-question&envId=2024-07-29"
   ]
  },
  {
   "cell_type": "code",
   "execution_count": 1,
   "id": "92899afe",
   "metadata": {},
   "outputs": [],
   "source": [
    "class Solution(object):\n",
    "    def numTeams(self, rating):\n",
    "        res = 0\n",
    "        for m in range(1,len(rating)-1):\n",
    "            leftSmaller = rightLarger = 0\n",
    "            for i in range(m):\n",
    "                if rating[i] < rating[m]:\n",
    "                     leftSmaller += 1\n",
    "            for i in range(m+1, len(rating)):\n",
    "                if rating[i] > rating[m]:\n",
    "                    rightLarger += 1\n",
    "\n",
    "            res += leftSmaller*rightLarger\n",
    "\n",
    "            leftLarger = m - leftSmaller\n",
    "            rightSmaller = len(rating) - m - 1 - rightLarger\n",
    "            res += leftLarger*rightSmaller\n",
    "\n",
    "        return res"
   ]
  },
  {
   "cell_type": "markdown",
   "id": "0f4c76a2",
   "metadata": {},
   "source": [
    "Basically we are initializing all the elements of the array as the middle element of the team and then checking how many on the left are smaller than the element and how many are larger and then multiplying the two."
   ]
  },
  {
   "cell_type": "code",
   "execution_count": null,
   "id": "0c6b1c10",
   "metadata": {},
   "outputs": [],
   "source": []
  }
 ],
 "metadata": {
  "kernelspec": {
   "display_name": "Python 3 (ipykernel)",
   "language": "python",
   "name": "python3"
  },
  "language_info": {
   "codemirror_mode": {
    "name": "ipython",
    "version": 3
   },
   "file_extension": ".py",
   "mimetype": "text/x-python",
   "name": "python",
   "nbconvert_exporter": "python",
   "pygments_lexer": "ipython3",
   "version": "3.10.9"
  }
 },
 "nbformat": 4,
 "nbformat_minor": 5
}
