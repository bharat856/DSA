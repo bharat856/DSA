{
 "cells": [
  {
   "cell_type": "markdown",
   "id": "6a2a8110",
   "metadata": {},
   "source": [
    "https://leetcode.com/problems/minimum-deletions-to-make-string-balanced/description/?envType=daily-question&envId=2024-07-30"
   ]
  },
  {
   "cell_type": "code",
   "execution_count": 1,
   "id": "c6415c41",
   "metadata": {},
   "outputs": [],
   "source": [
    "class Solution(object):\n",
    "    def minimumDeletions(self, s):\n",
    "        charStack = []\n",
    "        minDelete = 0\n",
    "        for char in s:\n",
    "            if charStack and charStack[-1] == 'b' and char == 'a':\n",
    "                    charStack.pop()\n",
    "                    minDelete += 1\n",
    "            else:\n",
    "                charStack.append(char)\n",
    "        return minDelete\n",
    "        "
   ]
  },
  {
   "cell_type": "code",
   "execution_count": null,
   "id": "9bff210e",
   "metadata": {},
   "outputs": [],
   "source": []
  }
 ],
 "metadata": {
  "kernelspec": {
   "display_name": "Python 3 (ipykernel)",
   "language": "python",
   "name": "python3"
  },
  "language_info": {
   "codemirror_mode": {
    "name": "ipython",
    "version": 3
   },
   "file_extension": ".py",
   "mimetype": "text/x-python",
   "name": "python",
   "nbconvert_exporter": "python",
   "pygments_lexer": "ipython3",
   "version": "3.10.9"
  }
 },
 "nbformat": 4,
 "nbformat_minor": 5
}
