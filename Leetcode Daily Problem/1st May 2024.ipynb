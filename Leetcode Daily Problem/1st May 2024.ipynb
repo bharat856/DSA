{
 "cells": [
  {
   "cell_type": "code",
   "execution_count": 2,
   "id": "fe7e561b",
   "metadata": {},
   "outputs": [],
   "source": [
    "class Solution(object):\n",
    "    def reversePrefix(self, word, ch):\n",
    "        c = 0\n",
    "        for i in range(len(word)):\n",
    "            if word[i] == ch:\n",
    "                x = i\n",
    "                c = 1\n",
    "                break\n",
    "        if c == 1:\n",
    "            temp1 = word[:x+1]  # Include the character 'ch'\n",
    "            temp2 = word[x+1:]\n",
    "            return temp1[::-1] + temp2\n",
    "        else:\n",
    "            return word"
   ]
  },
  {
   "cell_type": "code",
   "execution_count": null,
   "id": "c695eab4",
   "metadata": {},
   "outputs": [],
   "source": []
  }
 ],
 "metadata": {
  "kernelspec": {
   "display_name": "Python 3 (ipykernel)",
   "language": "python",
   "name": "python3"
  },
  "language_info": {
   "codemirror_mode": {
    "name": "ipython",
    "version": 3
   },
   "file_extension": ".py",
   "mimetype": "text/x-python",
   "name": "python",
   "nbconvert_exporter": "python",
   "pygments_lexer": "ipython3",
   "version": "3.10.9"
  }
 },
 "nbformat": 4,
 "nbformat_minor": 5
}
