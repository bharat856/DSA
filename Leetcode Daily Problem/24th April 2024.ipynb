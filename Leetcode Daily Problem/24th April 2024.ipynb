{
 "cells": [
  {
   "cell_type": "markdown",
   "id": "54858339",
   "metadata": {},
   "source": [
    "### The question is to find the nth value of a tribonacci series where Tn+3 = Tn +Tn+1 +Tn+2."
   ]
  },
  {
   "cell_type": "markdown",
   "id": "d9f21a22",
   "metadata": {},
   "source": [
    "#### Here I run a loop from n-2 to the value and replace the existing values with the next iteration "
   ]
  },
  {
   "cell_type": "markdown",
   "id": "d4612c6b",
   "metadata": {},
   "source": [
    "Question: https://leetcode.com/problems/n-th-tribonacci-number/description/"
   ]
  },
  {
   "cell_type": "markdown",
   "id": "de8ac6c8",
   "metadata": {},
   "source": [
    "My Solution :https://leetcode.com/problems/n-th-tribonacci-number/solutions/5065810/python-iterative-solution"
   ]
  },
  {
   "cell_type": "code",
   "execution_count": 1,
   "id": "1f37a8a1",
   "metadata": {},
   "outputs": [],
   "source": [
    "class Solution(object):\n",
    "    def tribonacci(self, n):\n",
    "        if n == 0:\n",
    "            return 0\n",
    "        elif n == 1 or n == 2:\n",
    "            return 1\n",
    "        else:\n",
    "            x = 0\n",
    "            y = 1\n",
    "            z = 1\n",
    "            for i in range(n-2):\n",
    "                a = x + y + z\n",
    "                x = y\n",
    "                y = z\n",
    "                z = a\n",
    "            return a\n"
   ]
  }
 ],
 "metadata": {
  "kernelspec": {
   "display_name": "Python 3 (ipykernel)",
   "language": "python",
   "name": "python3"
  },
  "language_info": {
   "codemirror_mode": {
    "name": "ipython",
    "version": 3
   },
   "file_extension": ".py",
   "mimetype": "text/x-python",
   "name": "python",
   "nbconvert_exporter": "python",
   "pygments_lexer": "ipython3",
   "version": "3.10.9"
  }
 },
 "nbformat": 4,
 "nbformat_minor": 5
}
