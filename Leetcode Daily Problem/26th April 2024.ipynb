{
 "cells": [
  {
   "cell_type": "markdown",
   "id": "2f0ef66d",
   "metadata": {},
   "source": [
    "Given an n x n integer matrix grid, return the minimum sum of a falling path with non-zero shifts.\n",
    "\n",
    "A falling path with non-zero shifts is a choice of exactly one element from each row of grid such that no two elements chosen in adjacent rows are in the same column.\n",
    "\n",
    " "
   ]
  },
  {
   "cell_type": "markdown",
   "id": "b18754c8",
   "metadata": {},
   "source": [
    "Question: https://leetcode.com/problems/minimum-falling-path-sum-ii/description/?envType=daily-question&envId=2024-04-26"
   ]
  },
  {
   "cell_type": "code",
   "execution_count": null,
   "id": "56822425",
   "metadata": {},
   "outputs": [],
   "source": []
  }
 ],
 "metadata": {
  "kernelspec": {
   "display_name": "Python 3 (ipykernel)",
   "language": "python",
   "name": "python3"
  },
  "language_info": {
   "codemirror_mode": {
    "name": "ipython",
    "version": 3
   },
   "file_extension": ".py",
   "mimetype": "text/x-python",
   "name": "python",
   "nbconvert_exporter": "python",
   "pygments_lexer": "ipython3",
   "version": "3.10.9"
  }
 },
 "nbformat": 4,
 "nbformat_minor": 5
}
