{
 "cells": [
  {
   "cell_type": "markdown",
   "id": "aa3ce2a7",
   "metadata": {},
   "source": [
    "#### Given nodes and the edges return the length of the smallest tree "
   ]
  },
  {
   "cell_type": "markdown",
   "id": "831f4fb4",
   "metadata": {},
   "source": [
    "https://leetcode.com/problems/minimum-height-trees/?envType=daily-question&envId=2024-04-23"
   ]
  },
  {
   "cell_type": "code",
   "execution_count": 2,
   "id": "bbfae23d",
   "metadata": {},
   "outputs": [],
   "source": [
    "class Solution(object):\n",
    "    def findMinHeightTrees(self, n, edges):\n",
    "         # If there is only one node, return it as the root of the minimum height tree\n",
    "        if n == 1:\n",
    "            return [0]\n",
    "\n",
    "        # Create an adjacency list to represent the graph\n",
    "        adj_list = defaultdict(list)\n",
    "        for edge in edges:\n",
    "            u, v = edge\n",
    "            adj_list[u].append(v)\n",
    "            adj_list[v].append(u)\n",
    "\n",
    "        # Find all leaf nodes (nodes with only one neighbor) as the starting point\n",
    "        leaves = [node for node in range(n) if len(adj_list[node]) == 1]\n",
    "\n",
    "        # Keep track of the remaining nodes to process\n",
    "        remaining_nodes = n\n",
    "\n",
    "        # Continue until there are only 1 or 2 nodes left\n",
    "        while remaining_nodes > 2:\n",
    "            # Reduce the remaining nodes by the number of current leaf nodes\n",
    "            remaining_nodes -= len(leaves)\n",
    "\n",
    "            # Create a new list to store the new leaf nodes for the next iteration\n",
    "            new_leaves = []\n",
    "\n",
    "            # Remove current leaf nodes and update their neighbors\n",
    "            for leaf in leaves:\n",
    "                neighbor = adj_list[leaf][0]\n",
    "                adj_list[neighbor].remove(leaf)\n",
    "\n",
    "                # If the neighbor becomes a leaf node, add it to the new leaves list\n",
    "                if len(adj_list[neighbor]) == 1:\n",
    "                    new_leaves.append(neighbor)\n",
    "\n",
    "            # Update the current leaf nodes for the next iteration\n",
    "            leaves = new_leaves\n",
    "\n",
    "        # At this point, the remaining nodes are the centers of the minimum height trees\n",
    "        return leaves"
   ]
  },
  {
   "cell_type": "code",
   "execution_count": 4,
   "id": "dde1a3e9",
   "metadata": {},
   "outputs": [],
   "source": [
    "class Solution(object):\n",
    "    def findMinHeightTrees(self, n, edges):\n",
    "        adj = defaultdict(list)\n",
    "        #Make the two nodes neighbors of eachother\n",
    "        for n1,n2 in edges:\n",
    "            adj[n1].append(n2)\n",
    "            adj[n2].append(n1)\n",
    "        edge_cnt = {}\n",
    "        leaves = deque()\n",
    "        # we go layer by layer and go through each node\n",
    "        for src, neigbors in adj.item():\n",
    "            #this indicates that it is a leaf node\n",
    "            if len(neighbors) == 1:\n",
    "                leaves.append(src)\n",
    "            edge_cnt[src] = len(neighbors)\n",
    "            while leaves:\n",
    "                if n <= 2:\n",
    "                    return list(leaves)\n",
    "                # Here we remove the leaf nodes which are at the outermost\n",
    "                for i in range(len(leaves)):\n",
    "                    node = leaves.popleft()\n",
    "                    n -= 1\n",
    "                    # Since we have removed the leaf node now we need to update the edge count of the neighbors\n",
    "                    for nei in adj[node]:\n",
    "                        edge_cnt[nei] -= 1\n",
    "                        # If the edge count is now equal to 1 that means the neighbor is now a leaf node so we can append it into the leaves list\n",
    "                        if edge_cnt[nei] == 1:\n",
    "                            leaves.append(nei)\n",
    "                    \n",
    "            "
   ]
  },
  {
   "cell_type": "code",
   "execution_count": null,
   "id": "b1f9a8c2",
   "metadata": {},
   "outputs": [],
   "source": []
  }
 ],
 "metadata": {
  "kernelspec": {
   "display_name": "Python 3 (ipykernel)",
   "language": "python",
   "name": "python3"
  },
  "language_info": {
   "codemirror_mode": {
    "name": "ipython",
    "version": 3
   },
   "file_extension": ".py",
   "mimetype": "text/x-python",
   "name": "python",
   "nbconvert_exporter": "python",
   "pygments_lexer": "ipython3",
   "version": "3.10.9"
  }
 },
 "nbformat": 4,
 "nbformat_minor": 5
}
