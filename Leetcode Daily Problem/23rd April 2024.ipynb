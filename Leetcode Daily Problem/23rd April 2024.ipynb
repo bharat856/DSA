{
 "cells": [
  {
   "cell_type": "markdown",
   "id": "aa3ce2a7",
   "metadata": {},
   "source": [
    "#### Given nodes and the edges return the length of the smallest tree "
   ]
  },
  {
   "cell_type": "markdown",
   "id": "831f4fb4",
   "metadata": {},
   "source": [
    "https://leetcode.com/problems/minimum-height-trees/?envType=daily-question&envId=2024-04-23"
   ]
  },
  {
   "cell_type": "code",
   "execution_count": 1,
   "id": "bbfae23d",
   "metadata": {},
   "outputs": [],
   "source": [
    "class Solution(object):\n",
    "    def findMinHeightTrees(self, n, edges):\n",
    "         # If there is only one node, return it as the root of the minimum height tree\n",
    "        if n == 1:\n",
    "            return [0]\n",
    "\n",
    "        # Create an adjacency list to represent the graph\n",
    "        adj_list = defaultdict(list)\n",
    "        for edge in edges:\n",
    "            u, v = edge\n",
    "            adj_list[u].append(v)\n",
    "            adj_list[v].append(u)\n",
    "\n",
    "        # Find all leaf nodes (nodes with only one neighbor) as the starting point\n",
    "        leaves = [node for node in range(n) if len(adj_list[node]) == 1]\n",
    "\n",
    "        # Keep track of the remaining nodes to process\n",
    "        remaining_nodes = n\n",
    "\n",
    "        # Continue until there are only 1 or 2 nodes left\n",
    "        while remaining_nodes > 2:\n",
    "            # Reduce the remaining nodes by the number of current leaf nodes\n",
    "            remaining_nodes -= len(leaves)\n",
    "\n",
    "            # Create a new list to store the new leaf nodes for the next iteration\n",
    "            new_leaves = []\n",
    "\n",
    "            # Remove current leaf nodes and update their neighbors\n",
    "            for leaf in leaves:\n",
    "                neighbor = adj_list[leaf][0]\n",
    "                adj_list[neighbor].remove(leaf)\n",
    "\n",
    "                # If the neighbor becomes a leaf node, add it to the new leaves list\n",
    "                if len(adj_list[neighbor]) == 1:\n",
    "                    new_leaves.append(neighbor)\n",
    "\n",
    "            # Update the current leaf nodes for the next iteration\n",
    "            leaves = new_leaves\n",
    "\n",
    "        # At this point, the remaining nodes are the centers of the minimum height trees\n",
    "        return leaves"
   ]
  }
 ],
 "metadata": {
  "kernelspec": {
   "display_name": "Python 3 (ipykernel)",
   "language": "python",
   "name": "python3"
  },
  "language_info": {
   "codemirror_mode": {
    "name": "ipython",
    "version": 3
   },
   "file_extension": ".py",
   "mimetype": "text/x-python",
   "name": "python",
   "nbconvert_exporter": "python",
   "pygments_lexer": "ipython3",
   "version": "3.10.9"
  }
 },
 "nbformat": 4,
 "nbformat_minor": 5
}
