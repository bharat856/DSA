{
 "cells": [
  {
   "cell_type": "markdown",
   "id": "5bc624db-5d38-4377-aa93-ba8a962a6475",
   "metadata": {},
   "source": [
    "https://leetcode.com/problems/minimum-array-end/description/?envType=daily-question&envId=2024-11-09"
   ]
  },
  {
   "cell_type": "code",
   "execution_count": 3,
   "id": "a41c4b3d-6744-4b86-8f3f-e89e2d546278",
   "metadata": {},
   "outputs": [],
   "source": [
    "class Solution:\n",
    "    def minEnd(self, n: int, x: int) -> int:\n",
    "        result = x\n",
    "\n",
    "        # Step 1: Iterate n-1 times (since we already initialized result with x)\n",
    "        while n > 1:\n",
    "            # Step 2: Increment result and perform bitwise OR with x\n",
    "            result = (result + 1) | x\n",
    "            n -= 1\n",
    "\n",
    "        return result"
   ]
  },
  {
   "cell_type": "code",
   "execution_count": null,
   "id": "0ff5b5d5-d5db-4916-9e26-1c6f2acebeb0",
   "metadata": {},
   "outputs": [],
   "source": []
  }
 ],
 "metadata": {
  "kernelspec": {
   "display_name": "Python 3 (ipykernel)",
   "language": "python",
   "name": "python3"
  },
  "language_info": {
   "codemirror_mode": {
    "name": "ipython",
    "version": 3
   },
   "file_extension": ".py",
   "mimetype": "text/x-python",
   "name": "python",
   "nbconvert_exporter": "python",
   "pygments_lexer": "ipython3",
   "version": "3.12.7"
  }
 },
 "nbformat": 4,
 "nbformat_minor": 5
}
