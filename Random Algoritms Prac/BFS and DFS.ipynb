{
 "cells": [
  {
   "cell_type": "code",
   "execution_count": 1,
   "id": "0a8a356e",
   "metadata": {},
   "outputs": [
    {
     "name": "stdout",
     "output_type": "stream",
     "text": [
      "Requirement already satisfied: networkx in c:\\users\\purib\\anaconda3\\lib\\site-packages (2.8.4)\n",
      "Note: you may need to restart the kernel to use updated packages.\n"
     ]
    }
   ],
   "source": [
    "pip install networkx"
   ]
  },
  {
   "cell_type": "code",
   "execution_count": 3,
   "id": "0959582e",
   "metadata": {},
   "outputs": [],
   "source": [
    "import queue\n",
    "import networkx as nx\n",
    "import matplotlib.pyplot as mp"
   ]
  },
  {
   "cell_type": "markdown",
   "id": "6c66bdac",
   "metadata": {},
   "source": [
    "###### Here we are doing BFS so we have a start node and then we have a visited list that is a set and we have order. vertex is the first node of the queue and then we check if it is visited if not then we add it to the visited list and we add it to the order then we call the graph with the node we are on and get all the neighbors \n"
   ]
  },
  {
   "cell_type": "code",
   "execution_count": 5,
   "id": "74382a4f",
   "metadata": {},
   "outputs": [],
   "source": [
    "def order_bfs(graph, start_node):\n",
    "    visited = set()\n",
    "    q = queue.Queue()\n",
    "    q.put(start_node)\n",
    "    order = []\n",
    "    while not q.empty():\n",
    "        vertex = q.get()\n",
    "        if vertex not in visted:\n",
    "            order.append(vertex)\n",
    "            visted.add(vertex)\n",
    "            for node in graph[vertex]:\n",
    "                if node not in visted:\n",
    "                    q.put(node)\n",
    "    return order"
   ]
  },
  {
   "cell_type": "markdown",
   "id": "88010579",
   "metadata": {},
   "source": [
    "#### Here we are doing DFS so we start off with a node and use recursion here we check if the visited is already present if it is not then we initialise it and then we use similar concept to bfs except we split the graph whenever new node comes."
   ]
  },
  {
   "cell_type": "code",
   "execution_count": 6,
   "id": "4d488d80",
   "metadata": {},
   "outputs": [],
   "source": [
    "def order_dfs(graph, start_node,visited):\n",
    "    if visited is None:\n",
    "        visited = set()\n",
    "    order = []\n",
    "    if start_node not in visited:\n",
    "        order.append(start_node)\n",
    "        visited.add(start_node)\n",
    "        for node in graph[start_node]:\n",
    "            order.extend(order_dfs(graph,node,visited))\n",
    "    return order"
   ]
  },
  {
   "cell_type": "code",
   "execution_count": null,
   "id": "bdba2aca",
   "metadata": {},
   "outputs": [],
   "source": [
    "def visualize_search(order, title, G, pos):\n",
    "    plt.figure()\n",
    "    plt.title(title)\n",
    "    for i , node in enumerate(order, start = 1 ):\n",
    "        plt.clf()\n",
    "        plt.title(title)\n",
    "        nx.draw(G, pos, with_labels = True, node_color = ['r' if n == node else 'g' for n in G.nodes])\n",
    "        plt.draw()\n",
    "        plt.pause(0.5)\n",
    "    plt.show()\n",
    "    time.sleep(0.5)"
   ]
  }
 ],
 "metadata": {
  "kernelspec": {
   "display_name": "Python 3 (ipykernel)",
   "language": "python",
   "name": "python3"
  },
  "language_info": {
   "codemirror_mode": {
    "name": "ipython",
    "version": 3
   },
   "file_extension": ".py",
   "mimetype": "text/x-python",
   "name": "python",
   "nbconvert_exporter": "python",
   "pygments_lexer": "ipython3",
   "version": "3.10.9"
  }
 },
 "nbformat": 4,
 "nbformat_minor": 5
}
