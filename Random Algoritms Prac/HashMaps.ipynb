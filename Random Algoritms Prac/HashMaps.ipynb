{
 "cells": [
  {
   "cell_type": "markdown",
   "id": "a38b2c2a",
   "metadata": {},
   "source": [
    "#### Hashmaps are basically dictionaries, usually you can use defaultdict function"
   ]
  },
  {
   "cell_type": "markdown",
   "id": "5307192f",
   "metadata": {},
   "source": [
    "Group Anagram"
   ]
  },
  {
   "cell_type": "code",
   "execution_count": null,
   "id": "ffc31ee0",
   "metadata": {},
   "outputs": [],
   "source": []
  }
 ],
 "metadata": {
  "kernelspec": {
   "display_name": "Python 3 (ipykernel)",
   "language": "python",
   "name": "python3"
  },
  "language_info": {
   "codemirror_mode": {
    "name": "ipython",
    "version": 3
   },
   "file_extension": ".py",
   "mimetype": "text/x-python",
   "name": "python",
   "nbconvert_exporter": "python",
   "pygments_lexer": "ipython3",
   "version": "3.10.9"
  }
 },
 "nbformat": 4,
 "nbformat_minor": 5
}
